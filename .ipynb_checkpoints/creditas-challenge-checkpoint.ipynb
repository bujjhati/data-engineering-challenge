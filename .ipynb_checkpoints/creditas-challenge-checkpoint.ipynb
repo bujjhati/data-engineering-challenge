{
 "cells": [
  {
   "cell_type": "code",
   "execution_count": 1,
   "metadata": {},
   "outputs": [],
   "source": [
    "import pandas as pd\n",
    "from urllib import parse\n",
    "import sqlite3\n",
    "\n",
    "con = sqlite3.connect(\"database/db.sqlite\")"
   ]
  },
  {
   "cell_type": "code",
   "execution_count": 2,
   "metadata": {},
   "outputs": [],
   "source": [
    "#con.close()"
   ]
  },
  {
   "cell_type": "code",
   "execution_count": 3,
   "metadata": {},
   "outputs": [],
   "source": [
    "def get_info_dict(linha):\n",
    "    url, device_id, referer = linha.split('|')\n",
    "    url, device_id, referer = url.split('://')[1].strip(), device_id.split(':')[1].strip(), ''.join(referer.split(':')[1:]).strip()\n",
    "    referer = 'facebook' if 'facebook' in referer else 'google' if 'google' in referer else referer\n",
    "    \n",
    "    params_dict = parse.parse_qs(parse.urlparse(url).query)\n",
    "    for key in params_dict.keys():\n",
    "        params_dict[key] = params_dict[key][0]\n",
    "\n",
    "    info_dict = {\n",
    "        'url':url,\n",
    "        'device_id':device_id,\n",
    "        'referer':referer\n",
    "    }\n",
    "    return {**info_dict, **params_dict}\n",
    "\n",
    "def parse_page_view_to_df():\n",
    "    info_dict = []\n",
    "    with open(dataset_folder+page_view_path,'r') as page_file:\n",
    "        for linha in page_file:        \n",
    "            info_dict.append(get_info_dict(linha))\n",
    "    return pd.DataFrame(info_dict)"
   ]
  },
  {
   "cell_type": "code",
   "execution_count": 4,
   "metadata": {},
   "outputs": [],
   "source": [
    "dataset_folder = 'datasets/'\n",
    "google_path = 'google_ads_media_costs.jsonl'\n",
    "facebook_path = 'facebook_ads_media_costs.jsonl'\n",
    "page_view_path = 'pageview.txt'\n",
    "\n",
    "col_names = ['device_id', 'lead_id', 'registered_at', 'credit_decision', 'credit_decision_at', 'signed_at', 'revenue']\n",
    "customer_funnel_path = 'customer_leads_funnel.csv'"
   ]
  },
  {
   "cell_type": "code",
   "execution_count": 5,
   "metadata": {},
   "outputs": [],
   "source": [
    "google_df = pd.read_json(dataset_folder+google_path, lines=True)\n",
    "facebook_df = pd.read_json(dataset_folder+facebook_path, lines=True)\n",
    "customer_funnel_df = pd.read_csv(dataset_folder+customer_funnel_path)\n",
    "page_view_df = parse_page_view_to_df()"
   ]
  },
  {
   "cell_type": "code",
   "execution_count": 6,
   "metadata": {},
   "outputs": [],
   "source": [
    "google_df['origin'] = 'google'\n",
    "facebook_df['origin'] = 'facebook'"
   ]
  },
  {
   "cell_type": "code",
   "execution_count": 7,
   "metadata": {},
   "outputs": [
    {
     "name": "stderr",
     "output_type": "stream",
     "text": [
      "C:\\ProgramData\\Anaconda3\\lib\\site-packages\\pandas\\core\\generic.py:2531: UserWarning: The spaces in these column names will not be changed. In pandas versions < 0.14, spaces were converted to underscores.\n",
      "  dtype=dtype, method=method)\n"
     ]
    }
   ],
   "source": [
    "google_df.to_sql('google_ads',con, if_exists='replace')\n",
    "facebook_df.to_sql('facebook_ads',con, if_exists='replace')\n",
    "customer_funnel_df.to_sql('custome_leads_funnel',con, if_exists='replace')\n",
    "page_view_df.to_sql('page_view',con, if_exists='replace')"
   ]
  },
  {
   "cell_type": "code",
   "execution_count": 8,
   "metadata": {},
   "outputs": [
    {
     "name": "stdout",
     "output_type": "stream",
     "text": [
      "Most expensive campaign:  creditas|home|natal2018 \n",
      "Cost:  15626.58\n"
     ]
    }
   ],
   "source": [
    "df = pd.read_sql_query('''\n",
    "    SELECT campaign_id, campaign_name, origin, sum(cost) AS total_campaign_cost  FROM \n",
    "    (\n",
    "        SELECT cost, google_campaign_id AS campaign_id, google_campaign_name AS campaign_name, origin from google_ads \n",
    "        UNION ALL \n",
    "        SELECT cost, facebook_campaign_id, facebook_campaign_name, origin from facebook_ads\n",
    "    ) \n",
    "    GROUP BY campaign_id, origin\n",
    "    ORDER BY total_campaign_cost DESC\n",
    "    LIMIT 1\n",
    "''', con)\n",
    "\n",
    "print('Most expensive campaign: ',df.campaign_name[0],'\\nCost: ',df.total_campaign_cost[0])"
   ]
  },
  {
   "cell_type": "code",
   "execution_count": 10,
   "metadata": {},
   "outputs": [
    {
     "data": {
      "text/html": [
       "<div>\n",
       "<style scoped>\n",
       "    .dataframe tbody tr th:only-of-type {\n",
       "        vertical-align: middle;\n",
       "    }\n",
       "\n",
       "    .dataframe tbody tr th {\n",
       "        vertical-align: top;\n",
       "    }\n",
       "\n",
       "    .dataframe thead th {\n",
       "        text-align: right;\n",
       "    }\n",
       "</style>\n",
       "<table border=\"1\" class=\"dataframe\">\n",
       "  <thead>\n",
       "    <tr style=\"text-align: right;\">\n",
       "      <th></th>\n",
       "      <th>index</th>\n",
       "      <th>ad_creative_id</th>\n",
       "      <th>campaign_id</th>\n",
       "      <th>device_id</th>\n",
       "      <th>referer</th>\n",
       "      <th>url</th>\n",
       "    </tr>\n",
       "  </thead>\n",
       "  <tbody>\n",
       "    <tr>\n",
       "      <th>0</th>\n",
       "      <td>13</td>\n",
       "      <td>20003</td>\n",
       "      <td>1001</td>\n",
       "      <td>0GGtWBPUOB</td>\n",
       "      <td>google</td>\n",
       "      <td>www.creditas.com.br/emprestimo?ad_creative_id=...</td>\n",
       "    </tr>\n",
       "    <tr>\n",
       "      <th>1</th>\n",
       "      <td>61</td>\n",
       "      <td>20007</td>\n",
       "      <td>1001</td>\n",
       "      <td>0ORagCcwX1</td>\n",
       "      <td>google</td>\n",
       "      <td>www.bankfacil.com.br/emprestimo-com-garantia?a...</td>\n",
       "    </tr>\n",
       "    <tr>\n",
       "      <th>2</th>\n",
       "      <td>100</td>\n",
       "      <td>20006</td>\n",
       "      <td>1001</td>\n",
       "      <td>4OpYhImeuy</td>\n",
       "      <td>google</td>\n",
       "      <td>www.creditas.com.br/emprestimo?ad_creative_id=...</td>\n",
       "    </tr>\n",
       "    <tr>\n",
       "      <th>3</th>\n",
       "      <td>208</td>\n",
       "      <td>20007</td>\n",
       "      <td>1001</td>\n",
       "      <td>9GAnXZsCze</td>\n",
       "      <td>google</td>\n",
       "      <td>www.creditas.com.br/conversion?ad_creative_id=...</td>\n",
       "    </tr>\n",
       "    <tr>\n",
       "      <th>4</th>\n",
       "      <td>263</td>\n",
       "      <td>20006</td>\n",
       "      <td>1001</td>\n",
       "      <td>D94rOs6neZ</td>\n",
       "      <td>google</td>\n",
       "      <td>www.bankfacil.com.br/emprestimo-com-garantia?a...</td>\n",
       "    </tr>\n",
       "  </tbody>\n",
       "</table>\n",
       "</div>"
      ],
      "text/plain": [
       "   index ad_creative_id campaign_id   device_id referer  \\\n",
       "0     13          20003        1001  0GGtWBPUOB  google   \n",
       "1     61          20007        1001  0ORagCcwX1  google   \n",
       "2    100          20006        1001  4OpYhImeuy  google   \n",
       "3    208          20007        1001  9GAnXZsCze  google   \n",
       "4    263          20006        1001  D94rOs6neZ  google   \n",
       "\n",
       "                                                 url  \n",
       "0  www.creditas.com.br/emprestimo?ad_creative_id=...  \n",
       "1  www.bankfacil.com.br/emprestimo-com-garantia?a...  \n",
       "2  www.creditas.com.br/emprestimo?ad_creative_id=...  \n",
       "3  www.creditas.com.br/conversion?ad_creative_id=...  \n",
       "4  www.bankfacil.com.br/emprestimo-com-garantia?a...  "
      ]
     },
     "execution_count": 10,
     "metadata": {},
     "output_type": "execute_result"
    }
   ],
   "source": [
    "pd.read_sql_query('''\n",
    "    SELECT * from page_view\n",
    "    WHERE campaign_id IS NOT NULL\n",
    "    GROUP BY campaign_id, referer, device_id\n",
    "    ORDER BY campaign_id ASC\n",
    "    LIMIT 5\n",
    "''', con)"
   ]
  },
  {
   "cell_type": "code",
   "execution_count": 72,
   "metadata": {},
   "outputs": [
    {
     "data": {
      "text/html": [
       "<div>\n",
       "<style scoped>\n",
       "    .dataframe tbody tr th:only-of-type {\n",
       "        vertical-align: middle;\n",
       "    }\n",
       "\n",
       "    .dataframe tbody tr th {\n",
       "        vertical-align: top;\n",
       "    }\n",
       "\n",
       "    .dataframe thead th {\n",
       "        text-align: right;\n",
       "    }\n",
       "</style>\n",
       "<table border=\"1\" class=\"dataframe\">\n",
       "  <thead>\n",
       "    <tr style=\"text-align: right;\">\n",
       "      <th></th>\n",
       "      <th>device_id</th>\n",
       "      <th>total_revenue</th>\n",
       "    </tr>\n",
       "  </thead>\n",
       "  <tbody>\n",
       "    <tr>\n",
       "      <th>0</th>\n",
       "      <td>4OpYhImeuy</td>\n",
       "      <td>398.21</td>\n",
       "    </tr>\n",
       "  </tbody>\n",
       "</table>\n",
       "</div>"
      ],
      "text/plain": [
       "    device_id  total_revenue\n",
       "0  4OpYhImeuy         398.21"
      ]
     },
     "execution_count": 72,
     "metadata": {},
     "output_type": "execute_result"
    }
   ],
   "source": [
    "pd.read_sql_query('''\n",
    "    SELECT device_id, sum(revenue) as total_revenue from customer_leads_funnel\n",
    "    WHERE device_id = '4OpYhImeuy'\n",
    "    GROUP BY device_id\n",
    "''', con)"
   ]
  },
  {
   "cell_type": "code",
   "execution_count": null,
   "metadata": {},
   "outputs": [],
   "source": []
  }
 ],
 "metadata": {
  "kernelspec": {
   "display_name": "Python 3",
   "language": "python",
   "name": "python3"
  },
  "language_info": {
   "codemirror_mode": {
    "name": "ipython",
    "version": 3
   },
   "file_extension": ".py",
   "mimetype": "text/x-python",
   "name": "python",
   "nbconvert_exporter": "python",
   "pygments_lexer": "ipython3",
   "version": "3.7.3"
  }
 },
 "nbformat": 4,
 "nbformat_minor": 2
}
